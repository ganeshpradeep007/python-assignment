{
 "cells": [
  {
   "cell_type": "markdown",
   "id": "acdaf075-685f-47e9-9ff3-9f5007f44735",
   "metadata": {},
   "source": [
    "# Explain the key features of Python that make it a popular choice for programming?\n",
    "*python is a programming language that's easy to understand and write\n",
    "*so it's popular programming language \n",
    "*python has large and active community of developers\n",
    "*pyhon has extensive library"
   ]
  },
  {
   "cell_type": "markdown",
   "id": "8a3f00be-67cb-4d04-8328-612789aff5a7",
   "metadata": {},
   "source": [
    "# Describe the role of predefined keywords in Python and provide examples of how they are used in a\n",
    "# program?\n",
    "* keywords in python are reserved words that have special meaning\n",
    "* keywords are case sensitive cannot be re_defined or over_ridden\n",
    "* examples of some key words: True,False,None if,etc...\n",
    "*  \n"
   ]
  },
  {
   "cell_type": "code",
   "execution_count": 1,
   "id": "712b0927-2d87-473b-bc0a-c7581139aa30",
   "metadata": {},
   "outputs": [
    {
     "name": "stdout",
     "output_type": "stream",
     "text": [
      "hello world\n"
     ]
    }
   ],
   "source": [
    "print(\"hello world\")"
   ]
  },
  {
   "cell_type": "code",
   "execution_count": 3,
   "id": "3a4309f7-58a2-42e3-a6c3-38b0217b3769",
   "metadata": {},
   "outputs": [
    {
     "data": {
      "text/plain": [
       "True"
      ]
     },
     "execution_count": 3,
     "metadata": {},
     "output_type": "execute_result"
    }
   ],
   "source": [
    "True"
   ]
  },
  {
   "cell_type": "code",
   "execution_count": 4,
   "id": "2a2e114e-6d05-4397-8989-7b4a1b590062",
   "metadata": {},
   "outputs": [
    {
     "name": "stdout",
     "output_type": "stream",
     "text": [
      "\n",
      "Here is a list of the Python keywords.  Enter any keyword to get more help.\n",
      "\n",
      "False               class               from                or\n",
      "None                continue            global              pass\n",
      "True                def                 if                  raise\n",
      "and                 del                 import              return\n",
      "as                  elif                in                  try\n",
      "assert              else                is                  while\n",
      "async               except              lambda              with\n",
      "await               finally             nonlocal            yield\n",
      "break               for                 not                 \n",
      "\n"
     ]
    }
   ],
   "source": [
    "help(\"keywords\")"
   ]
  },
  {
   "cell_type": "code",
   "execution_count": 5,
   "id": "ca7d1276-3ac1-44b0-a920-f5832026ad6e",
   "metadata": {},
   "outputs": [],
   "source": [
    "# these are the keywords in python"
   ]
  },
  {
   "cell_type": "raw",
   "id": "12171031-61e9-426b-8190-73d77d9e43ad",
   "metadata": {},
   "source": [
    "# Compare and contrast mutable and immutable objects in Python with examples?\n",
    "* in python objects can be changable or unchangeable\n",
    "* mutable objects can be changeable and immutable objects cannot be changed once if they are defined\n",
    "  "
   ]
  },
  {
   "cell_type": "code",
   "execution_count": 6,
   "id": "66f72ae9-4bbd-42a6-b7ea-d7a0fac05f37",
   "metadata": {},
   "outputs": [],
   "source": [
    "# example of mutable \n",
    "list=[56,\"ganesh\",7+5j]\n"
   ]
  },
  {
   "cell_type": "code",
   "execution_count": 7,
   "id": "4655eb23-45bc-46e3-8bae-7e2a5e07a6db",
   "metadata": {},
   "outputs": [
    {
     "data": {
      "text/plain": [
       "56"
      ]
     },
     "execution_count": 7,
     "metadata": {},
     "output_type": "execute_result"
    }
   ],
   "source": [
    "list[0]"
   ]
  },
  {
   "cell_type": "markdown",
   "id": "527fadce-67db-4446-beca-e553c6347121",
   "metadata": {},
   "source": [
    "list[0]=49"
   ]
  },
  {
   "cell_type": "code",
   "execution_count": 9,
   "id": "a67b60cc-07a2-40db-b71d-2e7742ce6299",
   "metadata": {},
   "outputs": [
    {
     "data": {
      "text/plain": [
       "[49, 'ganesh', (7+5j)]"
      ]
     },
     "execution_count": 9,
     "metadata": {},
     "output_type": "execute_result"
    }
   ],
   "source": [
    "list"
   ]
  },
  {
   "cell_type": "code",
   "execution_count": 10,
   "id": "e4f9c00e-d752-4342-b782-bc73fffda3e4",
   "metadata": {},
   "outputs": [],
   "source": [
    "# example of immutable \n",
    "name=\"pradeep\""
   ]
  },
  {
   "cell_type": "code",
   "execution_count": 11,
   "id": "bc08b7a1-4235-4dc8-9723-eeba0ea63df0",
   "metadata": {},
   "outputs": [
    {
     "data": {
      "text/plain": [
       "'p'"
      ]
     },
     "execution_count": 11,
     "metadata": {},
     "output_type": "execute_result"
    }
   ],
   "source": [
    "name[0]"
   ]
  },
  {
   "cell_type": "code",
   "execution_count": 12,
   "id": "503d520c-adcd-4a09-9607-8b8e3655d630",
   "metadata": {},
   "outputs": [
    {
     "ename": "NameError",
     "evalue": "name 'g' is not defined",
     "output_type": "error",
     "traceback": [
      "\u001b[1;31m---------------------------------------------------------------------------\u001b[0m",
      "\u001b[1;31mNameError\u001b[0m                                 Traceback (most recent call last)",
      "Cell \u001b[1;32mIn[12], line 1\u001b[0m\n\u001b[1;32m----> 1\u001b[0m name[\u001b[38;5;241m0\u001b[39m]\u001b[38;5;241m=\u001b[39m\u001b[43mg\u001b[49m\n",
      "\u001b[1;31mNameError\u001b[0m: name 'g' is not defined"
     ]
    }
   ],
   "source": [
    "name[0]=g"
   ]
  },
  {
   "cell_type": "markdown",
   "id": "9815205a-fb55-464a-9ec4-254fc220729d",
   "metadata": {},
   "source": [
    "# Discuss the different types of operators in Python and provide examples of how they are used?\n",
    "* operators are special keywords or symbols that are used to carry out some specific actions\n",
    "* python supports various types of operators like\n",
    "* arithematic operator[+,-,/,*,%,**]\n",
    "* assignment operator[=,+=,-=,*=,/=]\n",
    "* comparision operator[==,<=,>=,!=,<,>]\n",
    "* etc..."
   ]
  },
  {
   "cell_type": "code",
   "execution_count": 13,
   "id": "f9d556ec-8082-466f-a763-4fe0810c3e55",
   "metadata": {},
   "outputs": [
    {
     "data": {
      "text/plain": [
       "176"
      ]
     },
     "execution_count": 13,
     "metadata": {},
     "output_type": "execute_result"
    }
   ],
   "source": [
    "nm=98\n",
    "cv=78\n",
    "nm+cv"
   ]
  },
  {
   "cell_type": "code",
   "execution_count": 14,
   "id": "5c159684-18ec-4006-993e-8de070613fae",
   "metadata": {},
   "outputs": [
    {
     "data": {
      "text/plain": [
       "46.666666666666664"
      ]
     },
     "execution_count": 14,
     "metadata": {},
     "output_type": "execute_result"
    }
   ],
   "source": [
    "280/6"
   ]
  },
  {
   "cell_type": "markdown",
   "id": "93096067-5d46-4fd0-afa6-fce2566466f9",
   "metadata": {},
   "source": [
    "# Explain the concept of type casting in Python with examples?\n",
    "* type casting is the process of changing one datatype to another\n",
    "  "
   ]
  },
  {
   "cell_type": "code",
   "execution_count": 16,
   "id": "39cd65ab-a27c-41a6-aa17-2e782c6def78",
   "metadata": {},
   "outputs": [
    {
     "data": {
      "text/plain": [
       "87"
      ]
     },
     "execution_count": 16,
     "metadata": {},
     "output_type": "execute_result"
    }
   ],
   "source": [
    "# example of type casting \n",
    "bf=87\n",
    "bf"
   ]
  },
  {
   "cell_type": "code",
   "execution_count": 17,
   "id": "5ccd708e-cf44-401c-89da-36e874303146",
   "metadata": {},
   "outputs": [
    {
     "data": {
      "text/plain": [
       "int"
      ]
     },
     "execution_count": 17,
     "metadata": {},
     "output_type": "execute_result"
    }
   ],
   "source": [
    "type(bf)"
   ]
  },
  {
   "cell_type": "code",
   "execution_count": 18,
   "id": "216b14dd-1865-407b-a4c0-c3583b0328d2",
   "metadata": {},
   "outputs": [
    {
     "data": {
      "text/plain": [
       "'87'"
      ]
     },
     "execution_count": 18,
     "metadata": {},
     "output_type": "execute_result"
    }
   ],
   "source": [
    "str(bf)"
   ]
  },
  {
   "cell_type": "code",
   "execution_count": 19,
   "id": "2ca88f02-8a00-4665-8717-9c4f94dd733f",
   "metadata": {},
   "outputs": [
    {
     "data": {
      "text/plain": [
       "str"
      ]
     },
     "execution_count": 19,
     "metadata": {},
     "output_type": "execute_result"
    }
   ],
   "source": [
    "type(str(bf))"
   ]
  },
  {
   "cell_type": "markdown",
   "id": "3e9e0e8b-848d-4ccd-96f8-e516b724374f",
   "metadata": {},
   "source": [
    "#  How do conditional statements work in Python? Illustrate with examples?\n",
    "* conditional statements are used to execute condition\n",
    "* conditonal statements are if,if else,elif,nested ifelse\n",
    "* Conditional statements : helps you to code decisions based on some preconditions\n",
    "* if\n",
    "* if else\n",
    "* if elif(elseif) else\n",
    "* nested if else"
   ]
  },
  {
   "cell_type": "code",
   "execution_count": 20,
   "id": "c1685ff6-1452-4cbe-899b-275bb773581a",
   "metadata": {},
   "outputs": [
    {
     "name": "stdout",
     "output_type": "stream",
     "text": [
      "you are served alcohol\n"
     ]
    }
   ],
   "source": [
    "age=20\n",
    "if (age>=18):\n",
    "    print(\"you are served alcohol\")\n",
    "else:\n",
    "    print(\"get out from the pub\")"
   ]
  },
  {
   "cell_type": "code",
   "execution_count": 21,
   "id": "a7eb7e5b-d69a-4e24-b264-5630c8ace774",
   "metadata": {},
   "outputs": [
    {
     "name": "stdout",
     "output_type": "stream",
     "text": [
      "get out from the pub\n"
     ]
    }
   ],
   "source": [
    "age=16\n",
    "if (age>=18):\n",
    "    print(\"you are served alcohol\")\n",
    "else:\n",
    "    print(\"get out from the pub\")"
   ]
  },
  {
   "cell_type": "code",
   "execution_count": 22,
   "id": "5abd0334-967a-42a9-a662-6e0440026afb",
   "metadata": {},
   "outputs": [
    {
     "name": "stdout",
     "output_type": "stream",
     "text": [
      "i am hero\n"
     ]
    }
   ],
   "source": [
    "age=19\n",
    "if(age==18):\n",
    "    print(\"you are eligible\")\n",
    "elif(age<=18):\n",
    "    print(\"you are not eligible\")\n",
    "else:\n",
    "    print(\"i am hero\")"
   ]
  },
  {
   "cell_type": "code",
   "execution_count": 23,
   "id": "d1d5a6ba-59cb-48ad-9861-c678f9f822cf",
   "metadata": {},
   "outputs": [
    {
     "name": "stdout",
     "output_type": "stream",
     "text": [
      "i am learning\n"
     ]
    }
   ],
   "source": [
    "is_skills=True\n",
    "if is_skills:\n",
    "    print(\"i am learning\")\n",
    "elif is_skills:\n",
    "    print(\"i am not learning\")\n",
    "else:\n",
    "    print(\"course\")\n"
   ]
  },
  {
   "cell_type": "markdown",
   "id": "9e55d142-1d70-49b0-8c69-cb567b75dd76",
   "metadata": {},
   "source": [
    "# Describe the different types of loops in Python and their use cases with examples?\n",
    "* in python loops are used to repeat a sequence of actions or until a specific condition is satisfied\n",
    "* python has primarly two types of loops for loop, while loop\n",
    "* for loops are used for iterating over a sequence of elements\n",
    "* whlie loop are used for executing code until a specified conditioned becomes false"
   ]
  },
  {
   "cell_type": "code",
   "execution_count": 24,
   "id": "68c337e4-92e7-444d-bee6-3406e9ed9843",
   "metadata": {},
   "outputs": [
    {
     "name": "stdout",
     "output_type": "stream",
     "text": [
      "1\n",
      "2\n",
      "3\n",
      "4\n",
      "5\n",
      "6\n"
     ]
    }
   ],
   "source": [
    "n = 7\n",
    "i = 1\n",
    "while i < n:\n",
    "    print(i)\n",
    "    i = i+1"
   ]
  },
  {
   "cell_type": "code",
   "execution_count": 25,
   "id": "06b60d0e-4487-4ca5-bc44-66e1d080bf24",
   "metadata": {},
   "outputs": [
    {
     "name": "stdout",
     "output_type": "stream",
     "text": [
      "1\n",
      "2\n"
     ]
    }
   ],
   "source": [
    "n = 7\n",
    "i = 1\n",
    "while i < n:\n",
    "    print(i)\n",
    "    i = i+1\n",
    "    if i == 3:\n",
    "        break\n",
    "else:\n",
    "    print(\"This will be executed when the while is run successfuly without any break\")"
   ]
  },
  {
   "cell_type": "code",
   "execution_count": null,
   "id": "68268076-0345-481b-bcff-6a223fcb1a4b",
   "metadata": {},
   "outputs": [],
   "source": []
  }
 ],
 "metadata": {
  "kernelspec": {
   "display_name": "Python 3 (ipykernel)",
   "language": "python",
   "name": "python3"
  },
  "language_info": {
   "codemirror_mode": {
    "name": "ipython",
    "version": 3
   },
   "file_extension": ".py",
   "mimetype": "text/x-python",
   "name": "python",
   "nbconvert_exporter": "python",
   "pygments_lexer": "ipython3",
   "version": "3.13.0"
  }
 },
 "nbformat": 4,
 "nbformat_minor": 5
}
